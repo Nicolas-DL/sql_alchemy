{
    "cells": [
        {
            "cell_type": "markdown",
            "metadata": {},
            "source": [
                "# Explore here"
            ]
        },
        {
            "cell_type": "code",
            "execution_count": 1,
            "metadata": {},
            "outputs": [],
            "source": [
                "# Your code here\n",
                "import os\n",
                "from sqlalchemy import create_engine, text\n",
                "import pandas as pd\n",
                "from dotenv import load_dotenv"
            ]
        },
        {
            "cell_type": "code",
            "execution_count": null,
            "metadata": {},
            "outputs": [
                {
                    "name": "stdout",
                    "output_type": "stream",
                    "text": [
                        "Starting the connection...\n",
                        "¡Tablas creadas exitosamente!\n"
                    ]
                }
            ],
            "source": [
                "load_dotenv()\n",
                "\n",
                "def connect():\n",
                "    global engine # Esto nos permite usar una variable global llamada \"engine\"\n",
                "    # Un \"connection string\" es básicamente una cadena que contiene todas las credenciales de la base de datos juntas\n",
                "    connection_string = f\"postgresql://{os.getenv('DB_USER')}:{os.getenv('DB_PASSWORD')}@{os.getenv('DB_HOST')}/{os.getenv('DB_NAME')}\"\n",
                "    print(\"Starting the connection...\")\n",
                "    engine = create_engine(connection_string)\n",
                "    engine.connect()\n",
                "    return engine\n",
                "\n",
                "engine = connect()\n",
                "\n",
                "try:\n",
                "    with engine.connect() as conn:\n",
                "        # Ejecuta cada sentencia CREATE TABLE individualmente\n",
                "        statements = [\n",
                "            \"\"\"\n",
                "            CREATE TABLE publishers(\n",
                "                publisher_id INT NOT NULL,\n",
                "                name VARCHAR(255) NOT NULL,\n",
                "                PRIMARY KEY(publisher_id)\n",
                "            );\n",
                "            \"\"\",\n",
                "            \"\"\"\n",
                "            CREATE TABLE authors(\n",
                "                author_id INT NOT NULL,\n",
                "                first_name VARCHAR(100) NOT NULL,\n",
                "                middle_name VARCHAR(50) NULL,\n",
                "                last_name VARCHAR(100) NULL,\n",
                "                PRIMARY KEY(author_id)\n",
                "            );\n",
                "            \"\"\",\n",
                "            \"\"\"\n",
                "            CREATE TABLE books(\n",
                "                book_id INT NOT NULL,\n",
                "                title VARCHAR(255) NOT NULL,\n",
                "                total_pages INT NULL,\n",
                "                rating DECIMAL(4, 2) NULL,\n",
                "                isbn VARCHAR(13) NULL,\n",
                "                published_date DATE,\n",
                "                publisher_id INT NULL,\n",
                "                PRIMARY KEY(book_id),\n",
                "                CONSTRAINT fk_publisher FOREIGN KEY(publisher_id) REFERENCES publishers(publisher_id)\n",
                "            );\n",
                "            \"\"\",\n",
                "            \"\"\"\n",
                "            CREATE TABLE book_authors (\n",
                "                book_id INT NOT NULL,\n",
                "                author_id INT NOT NULL,\n",
                "                PRIMARY KEY(book_id, author_id),\n",
                "                CONSTRAINT fk_book FOREIGN KEY(book_id) REFERENCES books(book_id) ON DELETE CASCADE,\n",
                "                CONSTRAINT fk_author FOREIGN KEY(author_id) REFERENCES authors(author_id) ON DELETE CASCADE\n",
                "            );\n",
                "            \"\"\"\n",
                "        ]\n",
                "\n",
                "        for statement in statements:\n",
                "            conn.execute(text(statement))  # Encapsula cada sentencia con text()\n",
                "\n",
                "        conn.commit()  # Confirma los cambios después de crear todas las tablas\n",
                "        print(\"¡Tablas creadas exitosamente!\")\n",
                "\n",
                "except Exception as e:\n",
                "    print(f\"Ocurrió un error: {e}\")\n",
                "    conn.rollback()  # Revierte los cambios en caso de error\n",
                "\n",
                "finally:\n",
                "    engine.dispose()"
            ]
        },
        {
            "cell_type": "code",
            "execution_count": null,
            "metadata": {},
            "outputs": [],
            "source": [
                "conn.execute(text(statement))"
            ]
        }
    ],
    "metadata": {
        "kernelspec": {
            "display_name": "Python 3",
            "language": "python",
            "name": "python3"
        },
        "language_info": {
            "codemirror_mode": {
                "name": "ipython",
                "version": 3
            },
            "file_extension": ".py",
            "mimetype": "text/x-python",
            "name": "python",
            "nbconvert_exporter": "python",
            "pygments_lexer": "ipython3",
            "version": "3.10.12"
        },
        "orig_nbformat": 4
    },
    "nbformat": 4,
    "nbformat_minor": 2
}
